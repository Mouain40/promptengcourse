{
 "cells": [
  {
   "cell_type": "code",
   "execution_count": 2,
   "id": "7e8616c9-6377-4c00-97e8-b3ca41f459ae",
   "metadata": {},
   "outputs": [],
   "source": [
    "from fpdf import FPDF\n",
    "import os\n",
    "\n",
    "def save_pdf_report(patient_id, report_text):\n",
    "    pdf = FPDF()\n",
    "    pdf.add_page()\n",
    "    pdf.set_font(\"Arial\", size=12)\n",
    "\n",
    "    for line in report_text.split('\\n'):\n",
    "        pdf.multi_cell(0, 10, line)\n",
    "\n",
    "    path = f\"static/reports/{patient_id}_report.pdf\"\n",
    "    os.makedirs(\"static/reports\", exist_ok=True)\n",
    "    pdf.output(path)\n",
    "    return path\n"
   ]
  },
  {
   "cell_type": "code",
   "execution_count": null,
   "id": "2e76d7d1-79fc-4a9f-b246-cf1c46ca879b",
   "metadata": {},
   "outputs": [],
   "source": []
  }
 ],
 "metadata": {
  "kernelspec": {
   "display_name": "Python 3 (ipykernel)",
   "language": "python",
   "name": "python3"
  },
  "language_info": {
   "codemirror_mode": {
    "name": "ipython",
    "version": 3
   },
   "file_extension": ".py",
   "mimetype": "text/x-python",
   "name": "python",
   "nbconvert_exporter": "python",
   "pygments_lexer": "ipython3",
   "version": "3.11.11"
  }
 },
 "nbformat": 4,
 "nbformat_minor": 5
}
