{
 "cells": [
  {
   "cell_type": "code",
   "execution_count": 1,
   "id": "ccb96ba7-36a5-444f-81d2-7ddf9b651153",
   "metadata": {},
   "outputs": [],
   "source": [
    "def build_prompt(patient_data, prediction):\n",
    "    diagnosis = \"Heart Disease Detected\" if prediction == 1 else \"No Heart Disease Detected\"\n",
    "\n",
    "    return f\"\"\"\n",
    "Patient Report Generation\n",
    "\n",
    "Patient Information:\n",
    "- Age: {patient_data['age']}\n",
    "- Sex: {'Male' if patient_data['sex'] == 1 else 'Female'}\n",
    "- Chest Pain Type: {patient_data['cp']}\n",
    "- Resting BP: {patient_data['trestbps']} mm Hg\n",
    "- Cholesterol: {patient_data['chol']} mg/dl\n",
    "- Fasting Blood Sugar > 120: {'Yes' if patient_data['fbs'] else 'No'}\n",
    "- Rest ECG: {patient_data['restecg']}\n",
    "- Max Heart Rate: {patient_data['thalach']}\n",
    "- Exercise-induced Angina: {'Yes' if patient_data['exang'] else 'No'}\n",
    "- ST Depression: {patient_data['oldpeak']}\n",
    "- Slope: {patient_data['slope']}\n",
    "- Vessels Colored by Fluoroscopy: {patient_data['ca']}\n",
    "- Thalassemia: {patient_data['thal']}\n",
    "\n",
    "ML Model Diagnosis: {diagnosis}\n",
    "\n",
    "Please generate a formal, concise medical report.\n",
    "\"\"\"\n"
   ]
  },
  {
   "cell_type": "code",
   "execution_count": null,
   "id": "0e531fba-a3a6-4483-bd14-d4fdfa46368d",
   "metadata": {},
   "outputs": [],
   "source": []
  }
 ],
 "metadata": {
  "kernelspec": {
   "display_name": "Python 3 (ipykernel)",
   "language": "python",
   "name": "python3"
  },
  "language_info": {
   "codemirror_mode": {
    "name": "ipython",
    "version": 3
   },
   "file_extension": ".py",
   "mimetype": "text/x-python",
   "name": "python",
   "nbconvert_exporter": "python",
   "pygments_lexer": "ipython3",
   "version": "3.11.11"
  }
 },
 "nbformat": 4,
 "nbformat_minor": 5
}
