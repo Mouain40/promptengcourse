{
 "cells": [
  {
   "cell_type": "code",
   "execution_count": 1,
   "id": "a35b71d7-3a85-438a-9931-08777e5ca248",
   "metadata": {},
   "outputs": [],
   "source": [
    "from PIL import Image\n",
    "import os\n",
    "\n",
    "def save_uploaded_image(image, patient_id):\n",
    "    img = Image.open(image)\n",
    "    path = f\"static/reports/{patient_id}_ecg.png\"\n",
    "    img.save(path)\n",
    "    return path\n"
   ]
  },
  {
   "cell_type": "code",
   "execution_count": null,
   "id": "9b102470-168e-480e-a99b-d447dc1eadd3",
   "metadata": {},
   "outputs": [],
   "source": []
  }
 ],
 "metadata": {
  "kernelspec": {
   "display_name": "Python 3 (ipykernel)",
   "language": "python",
   "name": "python3"
  },
  "language_info": {
   "codemirror_mode": {
    "name": "ipython",
    "version": 3
   },
   "file_extension": ".py",
   "mimetype": "text/x-python",
   "name": "python",
   "nbconvert_exporter": "python",
   "pygments_lexer": "ipython3",
   "version": "3.11.11"
  }
 },
 "nbformat": 4,
 "nbformat_minor": 5
}
