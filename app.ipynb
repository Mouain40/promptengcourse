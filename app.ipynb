{
 "cells": [
  {
   "cell_type": "code",
   "execution_count": 1,
   "id": "fc89019d-4dca-4833-9542-acbff7490d93",
   "metadata": {},
   "outputs": [
    {
     "name": "stderr",
     "output_type": "stream",
     "text": [
      "C:\\Users\\INFINITYv\\anaconda3\\envs\\llms\\Lib\\site-packages\\sklearn\\base.py:380: InconsistentVersionWarning: Trying to unpickle estimator DecisionTreeClassifier from version 1.6.0 when using version 1.6.1. This might lead to breaking code or invalid results. Use at your own risk. For more info please refer to:\n",
      "https://scikit-learn.org/stable/model_persistence.html#security-maintainability-limitations\n",
      "  warnings.warn(\n"
     ]
    },
    {
     "name": "stdout",
     "output_type": "stream",
     "text": [
      "* Running on local URL:  http://127.0.0.1:7860\n",
      "\n",
      "To create a public link, set `share=True` in `launch()`.\n"
     ]
    },
    {
     "data": {
      "text/html": [
       "<div><iframe src=\"http://127.0.0.1:7860/\" width=\"100%\" height=\"500\" allow=\"autoplay; camera; microphone; clipboard-read; clipboard-write;\" frameborder=\"0\" allowfullscreen></iframe></div>"
      ],
      "text/plain": [
       "<IPython.core.display.HTML object>"
      ]
     },
     "metadata": {},
     "output_type": "display_data"
    },
    {
     "name": "stderr",
     "output_type": "stream",
     "text": [
      "C:\\Users\\INFINITYv\\anaconda3\\envs\\llms\\Lib\\site-packages\\sklearn\\utils\\validation.py:2732: UserWarning: X has feature names, but DecisionTreeClassifier was fitted without feature names\n",
      "  warnings.warn(\n"
     ]
    }
   ],
   "source": [
    "import gradio as gr\n",
    "import uuid\n",
    "import import_ipynb  # Required to import other Jupyter notebooks as modules\n",
    "\n",
    "# Import notebooks as modules using import_ipynb\n",
    "from utils import predict\n",
    "from llm import prompt_builder, llama_ollama\n",
    "from utils import pdf_generator, image_handler\n",
    "\n",
    "# Function to generate report\n",
    "def chatbot(age, sex, cp, trestbps, chol, fbs, restecg,\n",
    "            thalach, exang, oldpeak, slope, ca, thal, ecg_image=None):\n",
    "    \n",
    "    patient_id = str(uuid.uuid4())[:8]  # Unique identifier for the patient\n",
    "    \n",
    "    # Prepare the input data\n",
    "    patient_data = {\n",
    "        \"age\": age, \"sex\": sex, \"cp\": cp, \"trestbps\": trestbps,\n",
    "        \"chol\": chol, \"fbs\": fbs, \"restecg\": restecg, \"thalach\": thalach,\n",
    "        \"exang\": exang, \"oldpeak\": oldpeak, \"slope\": slope,\n",
    "        \"ca\": ca, \"thal\": thal\n",
    "    }\n",
    "\n",
    "    # Predict the heart disease risk\n",
    "    prediction = predict.predict_heart_disease(patient_data)\n",
    "    \n",
    "    # Build prompt for LLaMA 3.2 model\n",
    "    prompt = prompt_builder.build_prompt(patient_data, prediction)\n",
    "    \n",
    "    # Generate medical report using LLaMA\n",
    "    report = llama_ollama.generate_report(prompt)\n",
    "\n",
    "    # Save the generated report as PDF\n",
    "    pdf_path = pdf_generator.save_pdf_report(patient_id, report)\n",
    "\n",
    "    # Save ECG image if provided\n",
    "    if ecg_image:\n",
    "        image_handler.save_uploaded_image(ecg_image, patient_id)\n",
    "\n",
    "    return report, pdf_path\n",
    "\n",
    "# Create Gradio interface\n",
    "demo = gr.Interface(\n",
    "    fn=chatbot,\n",
    "    inputs=[\n",
    "        gr.Number(label=\"Age\"),\n",
    "        gr.Dropdown([0, 1], label=\"Sex (0=Female, 1=Male)\"),\n",
    "        gr.Number(label=\"Chest Pain Type\"),\n",
    "        gr.Number(label=\"Resting BP\"),\n",
    "        gr.Number(label=\"Cholesterol\"),\n",
    "        gr.Dropdown([0, 1], label=\"Fasting Sugar > 120?\"),\n",
    "        gr.Number(label=\"Rest ECG\"),\n",
    "        gr.Number(label=\"Max Heart Rate\"),\n",
    "        gr.Dropdown([0, 1], label=\"Exercise Angina\"),\n",
    "        gr.Number(label=\"ST Depression\"),\n",
    "        gr.Number(label=\"Slope\"),\n",
    "        gr.Number(label=\"Major Vessels\"),\n",
    "        gr.Number(label=\"Thalassemia\"),\n",
    "        gr.File(label=\"Upload ECG Image (optional)\", file_types=[\".png\", \".jpg\", \".jpeg\"])\n",
    "    ],\n",
    "    outputs=[\n",
    "        gr.Textbox(label=\"Generated Medical Report\"),\n",
    "        gr.File(label=\"Download PDF Report\")\n",
    "    ],\n",
    "    title=\"Heart Disease Report Generator with LLaMA 3.2 (Local)\"\n",
    ")\n",
    "\n",
    "# Launch Gradio app\n",
    "if __name__ == \"__main__\":\n",
    "    demo.launch()\n"
   ]
  },
  {
   "cell_type": "code",
   "execution_count": 11,
   "id": "78ec1404-8a98-4b05-abbf-21f0633670e1",
   "metadata": {},
   "outputs": [
    {
     "name": "stdout",
     "output_type": "stream",
     "text": [
      "Requirement already satisfied: fpdf in c:\\users\\infinityv\\anaconda3\\envs\\llms\\lib\\site-packages (1.7.2)\n"
     ]
    }
   ],
   "source": [
    "!pip install fpdf"
   ]
  },
  {
   "cell_type": "code",
   "execution_count": null,
   "id": "043aa65a-a14d-41bc-a3ea-b9560d97abef",
   "metadata": {},
   "outputs": [],
   "source": []
  }
 ],
 "metadata": {
  "kernelspec": {
   "display_name": "Python 3 (ipykernel)",
   "language": "python",
   "name": "python3"
  },
  "language_info": {
   "codemirror_mode": {
    "name": "ipython",
    "version": 3
   },
   "file_extension": ".py",
   "mimetype": "text/x-python",
   "name": "python",
   "nbconvert_exporter": "python",
   "pygments_lexer": "ipython3",
   "version": "3.11.11"
  }
 },
 "nbformat": 4,
 "nbformat_minor": 5
}
